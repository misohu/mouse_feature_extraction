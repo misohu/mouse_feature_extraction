{
 "cells": [
  {
   "cell_type": "markdown",
   "metadata": {
    "slideshow": {
     "slide_type": "slide"
    }
   },
   "source": [
    "<h1><center>Modeling user with mouse moves (feature extraction in python)</center></h1>\n",
    "<p><center><b>Author:</b> Michal Hucko</center></p>\n",
    "<p><center><b>Supervisor:</b> prof. Mária Bieliková</center></p>"
   ]
  },
  {
   "cell_type": "markdown",
   "metadata": {
    "slideshow": {
     "slide_type": "slide"
    }
   },
   "source": [
    "# Goal\n",
    "* How to transform user mouse data into features describing user's behavior?\n",
    "* We want to predict confusion based on those features."
   ]
  },
  {
   "cell_type": "code",
   "execution_count": 6,
   "metadata": {
    "slideshow": {
     "slide_type": "subslide"
    }
   },
   "outputs": [],
   "source": [
    "# Environment setup (librarries and ploting)\n",
    "import pandas as pd\n",
    "import numpy as np\n",
    "import seaborn as sns\n",
    "\n",
    "from scipy import stats \n",
    "from matplotlib import pyplot as plt\n",
    "\n",
    "# Fiigure setup \n",
    "%matplotlib inline\n",
    "plt.rcParams['figure.figsize'] = 12, 8"
   ]
  },
  {
   "cell_type": "markdown",
   "metadata": {
    "slideshow": {
     "slide_type": "slide"
    }
   },
   "source": [
    "# Raw data\n",
    "* We start with looking at our data.\n",
    "* Data was gathered using mouse logger on index page of one of yeself's customer.\n",
    "* Few visitors were extracted. We use only mouse-move events."
   ]
  },
  {
   "cell_type": "code",
   "execution_count": 7,
   "metadata": {
    "slideshow": {
     "slide_type": "subslide"
    }
   },
   "outputs": [
    {
     "data": {
      "text/html": [
       "<div>\n",
       "<style scoped>\n",
       "    .dataframe tbody tr th:only-of-type {\n",
       "        vertical-align: middle;\n",
       "    }\n",
       "\n",
       "    .dataframe tbody tr th {\n",
       "        vertical-align: top;\n",
       "    }\n",
       "\n",
       "    .dataframe thead th {\n",
       "        text-align: right;\n",
       "    }\n",
       "</style>\n",
       "<table border=\"1\" class=\"dataframe\">\n",
       "  <thead>\n",
       "    <tr style=\"text-align: right;\">\n",
       "      <th></th>\n",
       "      <th>applicationId</th>\n",
       "      <th>attrs</th>\n",
       "      <th>classOnly</th>\n",
       "      <th>conversationId</th>\n",
       "      <th>cursorId</th>\n",
       "      <th>displayHeight</th>\n",
       "      <th>displayWidth</th>\n",
       "      <th>event</th>\n",
       "      <th>expressed</th>\n",
       "      <th>keyPressed</th>\n",
       "      <th>organisationId</th>\n",
       "      <th>relative</th>\n",
       "      <th>tagOnly</th>\n",
       "      <th>timestamp</th>\n",
       "      <th>url</th>\n",
       "      <th>userId</th>\n",
       "      <th>visitorId</th>\n",
       "      <th>xpath</th>\n",
       "      <th>xpos</th>\n",
       "      <th>ypos</th>\n",
       "    </tr>\n",
       "  </thead>\n",
       "  <tbody>\n",
       "    <tr>\n",
       "      <th>0</th>\n",
       "      <td>ye-live-dss-pabk</td>\n",
       "      <td>NaN</td>\n",
       "      <td>NaN</td>\n",
       "      <td>ae8254d3-b964-4eb8-9eed-baf14c20143e</td>\n",
       "      <td>0</td>\n",
       "      <td>4624</td>\n",
       "      <td>1418</td>\n",
       "      <td>mousemove</td>\n",
       "      <td>NaN</td>\n",
       "      <td>NaN</td>\n",
       "      <td>cf44c5ba-e019-44c8-80e1-b1528425708a</td>\n",
       "      <td>header#page-t &gt; div.wrapper:nth-child(4) &gt; div...</td>\n",
       "      <td>NaN</td>\n",
       "      <td>2018-07-20 16:26:41.481</td>\n",
       "      <td>https://www.dsspabk.sk/dochodkove-fondy/stabil...</td>\n",
       "      <td>NaN</td>\n",
       "      <td>3c36dbbe-0e2e-4356-a618-8f5077f2b145</td>\n",
       "      <td>NaN</td>\n",
       "      <td>1142</td>\n",
       "      <td>321</td>\n",
       "    </tr>\n",
       "    <tr>\n",
       "      <th>1</th>\n",
       "      <td>ye-live-dss-pabk</td>\n",
       "      <td>NaN</td>\n",
       "      <td>NaN</td>\n",
       "      <td>ae8254d3-b964-4eb8-9eed-baf14c20143e</td>\n",
       "      <td>0</td>\n",
       "      <td>4624</td>\n",
       "      <td>1418</td>\n",
       "      <td>mousemove</td>\n",
       "      <td>NaN</td>\n",
       "      <td>NaN</td>\n",
       "      <td>cf44c5ba-e019-44c8-80e1-b1528425708a</td>\n",
       "      <td>header#page-t &gt; div.wrapper.pad_t20:nth-child(...</td>\n",
       "      <td>NaN</td>\n",
       "      <td>2018-07-20 16:26:41.733</td>\n",
       "      <td>https://www.dsspabk.sk/dochodkove-fondy/stabil...</td>\n",
       "      <td>NaN</td>\n",
       "      <td>3c36dbbe-0e2e-4356-a618-8f5077f2b145</td>\n",
       "      <td>NaN</td>\n",
       "      <td>1136</td>\n",
       "      <td>308</td>\n",
       "    </tr>\n",
       "    <tr>\n",
       "      <th>2</th>\n",
       "      <td>ye-live-dss-pabk</td>\n",
       "      <td>NaN</td>\n",
       "      <td>NaN</td>\n",
       "      <td>ae8254d3-b964-4eb8-9eed-baf14c20143e</td>\n",
       "      <td>0</td>\n",
       "      <td>4624</td>\n",
       "      <td>1418</td>\n",
       "      <td>mousemove</td>\n",
       "      <td>NaN</td>\n",
       "      <td>NaN</td>\n",
       "      <td>cf44c5ba-e019-44c8-80e1-b1528425708a</td>\n",
       "      <td>header#page-t &gt; div.wrapper.pad_t20:nth-child(...</td>\n",
       "      <td>NaN</td>\n",
       "      <td>2018-07-20 16:26:41.755</td>\n",
       "      <td>https://www.dsspabk.sk/dochodkove-fondy/stabil...</td>\n",
       "      <td>NaN</td>\n",
       "      <td>3c36dbbe-0e2e-4356-a618-8f5077f2b145</td>\n",
       "      <td>NaN</td>\n",
       "      <td>1106</td>\n",
       "      <td>305</td>\n",
       "    </tr>\n",
       "    <tr>\n",
       "      <th>3</th>\n",
       "      <td>ye-live-dss-pabk</td>\n",
       "      <td>NaN</td>\n",
       "      <td>NaN</td>\n",
       "      <td>ae8254d3-b964-4eb8-9eed-baf14c20143e</td>\n",
       "      <td>0</td>\n",
       "      <td>4624</td>\n",
       "      <td>1418</td>\n",
       "      <td>mousemove</td>\n",
       "      <td>NaN</td>\n",
       "      <td>NaN</td>\n",
       "      <td>cf44c5ba-e019-44c8-80e1-b1528425708a</td>\n",
       "      <td>div#page-h &gt; div.top-menu:nth-child(2)</td>\n",
       "      <td>NaN</td>\n",
       "      <td>2018-07-20 16:26:41.794</td>\n",
       "      <td>https://www.dsspabk.sk/dochodkove-fondy/stabil...</td>\n",
       "      <td>NaN</td>\n",
       "      <td>3c36dbbe-0e2e-4356-a618-8f5077f2b145</td>\n",
       "      <td>NaN</td>\n",
       "      <td>922</td>\n",
       "      <td>138</td>\n",
       "    </tr>\n",
       "    <tr>\n",
       "      <th>4</th>\n",
       "      <td>ye-live-dss-pabk</td>\n",
       "      <td>NaN</td>\n",
       "      <td>NaN</td>\n",
       "      <td>ae8254d3-b964-4eb8-9eed-baf14c20143e</td>\n",
       "      <td>0</td>\n",
       "      <td>4624</td>\n",
       "      <td>1418</td>\n",
       "      <td>mousemove</td>\n",
       "      <td>NaN</td>\n",
       "      <td>NaN</td>\n",
       "      <td>cf44c5ba-e019-44c8-80e1-b1528425708a</td>\n",
       "      <td>div#page-c &gt; div.page_fund.product_page:nth-ch...</td>\n",
       "      <td>NaN</td>\n",
       "      <td>2018-07-20 16:26:41.400</td>\n",
       "      <td>https://www.dsspabk.sk/dochodkove-fondy/stabil...</td>\n",
       "      <td>NaN</td>\n",
       "      <td>3c36dbbe-0e2e-4356-a618-8f5077f2b145</td>\n",
       "      <td>NaN</td>\n",
       "      <td>1377</td>\n",
       "      <td>526</td>\n",
       "    </tr>\n",
       "  </tbody>\n",
       "</table>\n",
       "</div>"
      ],
      "text/plain": [
       "      applicationId attrs classOnly                        conversationId  \\\n",
       "0  ye-live-dss-pabk   NaN       NaN  ae8254d3-b964-4eb8-9eed-baf14c20143e   \n",
       "1  ye-live-dss-pabk   NaN       NaN  ae8254d3-b964-4eb8-9eed-baf14c20143e   \n",
       "2  ye-live-dss-pabk   NaN       NaN  ae8254d3-b964-4eb8-9eed-baf14c20143e   \n",
       "3  ye-live-dss-pabk   NaN       NaN  ae8254d3-b964-4eb8-9eed-baf14c20143e   \n",
       "4  ye-live-dss-pabk   NaN       NaN  ae8254d3-b964-4eb8-9eed-baf14c20143e   \n",
       "\n",
       "   cursorId  displayHeight  displayWidth      event expressed  keyPressed  \\\n",
       "0         0           4624          1418  mousemove       NaN         NaN   \n",
       "1         0           4624          1418  mousemove       NaN         NaN   \n",
       "2         0           4624          1418  mousemove       NaN         NaN   \n",
       "3         0           4624          1418  mousemove       NaN         NaN   \n",
       "4         0           4624          1418  mousemove       NaN         NaN   \n",
       "\n",
       "                         organisationId  \\\n",
       "0  cf44c5ba-e019-44c8-80e1-b1528425708a   \n",
       "1  cf44c5ba-e019-44c8-80e1-b1528425708a   \n",
       "2  cf44c5ba-e019-44c8-80e1-b1528425708a   \n",
       "3  cf44c5ba-e019-44c8-80e1-b1528425708a   \n",
       "4  cf44c5ba-e019-44c8-80e1-b1528425708a   \n",
       "\n",
       "                                            relative tagOnly  \\\n",
       "0  header#page-t > div.wrapper:nth-child(4) > div...     NaN   \n",
       "1  header#page-t > div.wrapper.pad_t20:nth-child(...     NaN   \n",
       "2  header#page-t > div.wrapper.pad_t20:nth-child(...     NaN   \n",
       "3             div#page-h > div.top-menu:nth-child(2)     NaN   \n",
       "4  div#page-c > div.page_fund.product_page:nth-ch...     NaN   \n",
       "\n",
       "                timestamp                                                url  \\\n",
       "0 2018-07-20 16:26:41.481  https://www.dsspabk.sk/dochodkove-fondy/stabil...   \n",
       "1 2018-07-20 16:26:41.733  https://www.dsspabk.sk/dochodkove-fondy/stabil...   \n",
       "2 2018-07-20 16:26:41.755  https://www.dsspabk.sk/dochodkove-fondy/stabil...   \n",
       "3 2018-07-20 16:26:41.794  https://www.dsspabk.sk/dochodkove-fondy/stabil...   \n",
       "4 2018-07-20 16:26:41.400  https://www.dsspabk.sk/dochodkove-fondy/stabil...   \n",
       "\n",
       "   userId                             visitorId xpath  xpos  ypos  \n",
       "0     NaN  3c36dbbe-0e2e-4356-a618-8f5077f2b145   NaN  1142   321  \n",
       "1     NaN  3c36dbbe-0e2e-4356-a618-8f5077f2b145   NaN  1136   308  \n",
       "2     NaN  3c36dbbe-0e2e-4356-a618-8f5077f2b145   NaN  1106   305  \n",
       "3     NaN  3c36dbbe-0e2e-4356-a618-8f5077f2b145   NaN   922   138  \n",
       "4     NaN  3c36dbbe-0e2e-4356-a618-8f5077f2b145   NaN  1377   526  "
      ]
     },
     "execution_count": 7,
     "metadata": {},
     "output_type": "execute_result"
    }
   ],
   "source": [
    "# Raw data\n",
    "df = pd.read_csv(\"test_user_data.csv\", parse_dates=['timestamp'], index_col=[0])\n",
    "df.head()"
   ]
  },
  {
   "cell_type": "code",
   "execution_count": 8,
   "metadata": {
    "slideshow": {
     "slide_type": "subslide"
    }
   },
   "outputs": [
    {
     "data": {
      "image/png": "[encoded data removed]",
      "text/plain": [
       "<Figure size 864x576 with 1 Axes>"
      ]
     },
     "metadata": {
      "needs_background": "light"
     },
     "output_type": "display_data"
    }
   ],
   "source": [
    "# Sample user plotting\n",
    "\n",
    "# Choose sample user for sample date\n",
    "target_id = \"3c36dbbe-0e2e-4356-a618-8f5077f2b145\"\n",
    "target_date = \"2018-06-25\"\n",
    "df_user = df.loc[df.visitorId == target_id, ['xpos', 'ypos', 'timestamp', 'event']]\n",
    "\n",
    "# Plot data\n",
    "plt.plot(df_user['xpos'],df_user['ypos'], 'ro')\n",
    "plt.gca().invert_yaxis() # Invert axis because JS screen coordinates"
   ]
  },
  {
   "cell_type": "markdown",
   "metadata": {
    "slideshow": {
     "slide_type": "slide"
    }
   },
   "source": [
    "## Spliting to moves\n",
    "* Seen earlier analyzing as whole may be problematic. \n",
    "* Lets split data by timedeltas between each move [1]. We will set the treshold to 120 ms [1,2].\n",
    "* Delete moves with less than 4 mouse-move events [1]."
   ]
  },
  {
   "cell_type": "code",
   "execution_count": 9,
   "metadata": {
    "slideshow": {
     "slide_type": "subslide"
    }
   },
   "outputs": [],
   "source": [
    "df_user['deltat'] = df_user.timestamp - df_user.timestamp.shift(1) # Compute row time - previous row time \n",
    "df_user.deltat = df_user.deltat / np.timedelta64(1, 'ms') # Transform it to miliseconds\n",
    "\n",
    "# Delete records with same timedelta\n",
    "df_user = df_user[df_user.deltat != 0].copy()\n",
    "\n",
    "df_user['help']  = (df_user.deltat > 120).cumsum() # Cumulative sum of booleans split by 120 ms\n",
    "moves = df_user.groupby('help').filter(lambda x: x.shape[0] >= 4) # Delete those with less than 4 mousemoves"
   ]
  },
  {
   "cell_type": "code",
   "execution_count": 10,
   "metadata": {
    "slideshow": {
     "slide_type": "subslide"
    }
   },
   "outputs": [
    {
     "data": {
      "image/png": "[encoded data removed]",
      "text/plain": [
       "<Figure size 864x576 with 1 Axes>"
      ]
     },
     "metadata": {
      "needs_background": "light"
     },
     "output_type": "display_data"
    }
   ],
   "source": [
    "target_moves = moves[moves.help.isin(moves.help.unique()[:4])] # Get sample 4 moves\n",
    "\n",
    "sns.scatterplot(target_moves['xpos'],target_moves['ypos'], hue=target_moves['help'], size=target_moves['help'])\n",
    "plt.gca().invert_yaxis()"
   ]
  },
  {
   "cell_type": "markdown",
   "metadata": {
    "slideshow": {
     "slide_type": "slide"
    }
   },
   "source": [
    "# Single user analysis\n",
    "For each user separately we compute these features for each of his movements [1,2]:\n",
    "* vertical speed (vy)\n",
    "* hoorizontal speed (vx)\n",
    "* speed (v)\n",
    "* tangential speed (v_tan)\n",
    "* acceleration (dtv)\n",
    "* jerk (dtdtv)\n",
    "* distance (dist)\n",
    "* time (time)"
   ]
  },
  {
   "cell_type": "code",
   "execution_count": 8,
   "metadata": {
    "slideshow": {
     "slide_type": "subslide"
    }
   },
   "outputs": [],
   "source": [
    "def analyse_recods(x):\n",
    "    \"\"\"\n",
    "    Function computes basic features from given user's mousemoves (x)\n",
    "    \"\"\"\n",
    "    # Simple computation of features\n",
    "    x['deltax'] = np.abs(x.xpos.shift(1) - x.xpos)\n",
    "    x['deltay'] = np.abs(x.ypos.shift(1) - x.ypos)\n",
    "    x['vx'] = x.deltax / x.deltat\n",
    "    x['vy'] = x.deltay / x.deltat\n",
    "\n",
    "    x['v_tan'] = np.sqrt(x.vx.pow(2) + x.vy.pow(2))\n",
    "    x['dtv'] = x['v_tan'] / x.deltat\n",
    "    x['dtdtv'] = x['dtv'] / x.deltat\n",
    "    x['dist'] = np.sqrt(x.deltax.pow(2) + x.deltay.pow(2))\n",
    "    \n",
    "    # Add basic features to result dict\n",
    "    result_dict = {\n",
    "        \"time\": x.deltat.sum(),\n",
    "        \"dist\": np.sqrt((x.deltax.pow(2) + x.deltay.pow(2))).sum(),\n",
    "        \"v\": np.sqrt((x.deltax.pow(2) + x.deltay.pow(2)).sum()) / x.deltat.sum()\n",
    "    }\n",
    "    \n",
    "    # For selected features compute means and add them into dict\n",
    "    for feature in ['deltat', 'deltax', 'deltay', 'vx', 'vy', 'v_tan', 'dtv', 'dtdtv']:\n",
    "        temp = {\n",
    "            feature: x[feature].mean()\n",
    "        }\n",
    "        result_dict = {**result_dict, **temp}\n",
    "    \n",
    "    # Hack here return dataframe of given dict :) \n",
    "    return pd.Series(result_dict).to_frame().T"
   ]
  },
  {
   "cell_type": "code",
   "execution_count": 12,
   "metadata": {
    "slideshow": {
     "slide_type": "subslide"
    }
   },
   "outputs": [
    {
     "data": {
      "text/html": [
       "<div>\n",
       "<style scoped>\n",
       "    .dataframe tbody tr th:only-of-type {\n",
       "        vertical-align: middle;\n",
       "    }\n",
       "\n",
       "    .dataframe tbody tr th {\n",
       "        vertical-align: top;\n",
       "    }\n",
       "\n",
       "    .dataframe thead th {\n",
       "        text-align: right;\n",
       "    }\n",
       "</style>\n",
       "<table border=\"1\" class=\"dataframe\">\n",
       "  <thead>\n",
       "    <tr style=\"text-align: right;\">\n",
       "      <th></th>\n",
       "      <th></th>\n",
       "      <th>time</th>\n",
       "      <th>dist</th>\n",
       "      <th>v</th>\n",
       "      <th>deltat</th>\n",
       "      <th>deltax</th>\n",
       "      <th>deltay</th>\n",
       "      <th>vx</th>\n",
       "      <th>vy</th>\n",
       "      <th>v_tan</th>\n",
       "      <th>dtv</th>\n",
       "      <th>dtdtv</th>\n",
       "    </tr>\n",
       "    <tr>\n",
       "      <th>help</th>\n",
       "      <th></th>\n",
       "      <th></th>\n",
       "      <th></th>\n",
       "      <th></th>\n",
       "      <th></th>\n",
       "      <th></th>\n",
       "      <th></th>\n",
       "      <th></th>\n",
       "      <th></th>\n",
       "      <th></th>\n",
       "      <th></th>\n",
       "      <th></th>\n",
       "    </tr>\n",
       "  </thead>\n",
       "  <tbody>\n",
       "    <tr>\n",
       "      <th>1</th>\n",
       "      <th>0</th>\n",
       "      <td>1.500000e+01</td>\n",
       "      <td>1206.956850</td>\n",
       "      <td>4.630018e+01</td>\n",
       "      <td>2.500000e+00</td>\n",
       "      <td>180.800000</td>\n",
       "      <td>155.200000</td>\n",
       "      <td>2.245504</td>\n",
       "      <td>1.722023</td>\n",
       "      <td>3.519523</td>\n",
       "      <td>0.088964</td>\n",
       "      <td>0.002646</td>\n",
       "    </tr>\n",
       "    <tr>\n",
       "      <th>5</th>\n",
       "      <th>0</th>\n",
       "      <td>1.000847e+09</td>\n",
       "      <td>758.416323</td>\n",
       "      <td>3.492066e-07</td>\n",
       "      <td>1.112053e+08</td>\n",
       "      <td>27.750000</td>\n",
       "      <td>88.750000</td>\n",
       "      <td>0.538457</td>\n",
       "      <td>1.443522</td>\n",
       "      <td>1.568055</td>\n",
       "      <td>0.047360</td>\n",
       "      <td>0.002281</td>\n",
       "    </tr>\n",
       "    <tr>\n",
       "      <th>9</th>\n",
       "      <th>0</th>\n",
       "      <td>-5.940000e+02</td>\n",
       "      <td>1698.081759</td>\n",
       "      <td>-2.115488e+00</td>\n",
       "      <td>-8.485714e+01</td>\n",
       "      <td>121.166667</td>\n",
       "      <td>231.000000</td>\n",
       "      <td>1.212107</td>\n",
       "      <td>0.496773</td>\n",
       "      <td>1.404336</td>\n",
       "      <td>0.025917</td>\n",
       "      <td>0.000555</td>\n",
       "    </tr>\n",
       "    <tr>\n",
       "      <th>17</th>\n",
       "      <th>0</th>\n",
       "      <td>-5.500000e+02</td>\n",
       "      <td>1256.024894</td>\n",
       "      <td>-2.011137e+00</td>\n",
       "      <td>-1.375000e+02</td>\n",
       "      <td>106.333333</td>\n",
       "      <td>397.333333</td>\n",
       "      <td>0.525348</td>\n",
       "      <td>0.183775</td>\n",
       "      <td>1.338416</td>\n",
       "      <td>0.014800</td>\n",
       "      <td>0.000276</td>\n",
       "    </tr>\n",
       "    <tr>\n",
       "      <th>42</th>\n",
       "      <th>0</th>\n",
       "      <td>1.320000e+02</td>\n",
       "      <td>199.142754</td>\n",
       "      <td>9.446031e-01</td>\n",
       "      <td>3.300000e+01</td>\n",
       "      <td>32.000000</td>\n",
       "      <td>48.333333</td>\n",
       "      <td>-0.151908</td>\n",
       "      <td>-0.415829</td>\n",
       "      <td>0.482257</td>\n",
       "      <td>-0.004522</td>\n",
       "      <td>0.000043</td>\n",
       "    </tr>\n",
       "  </tbody>\n",
       "</table>\n",
       "</div>"
      ],
      "text/plain": [
       "                time         dist             v        deltat      deltax  \\\n",
       "help                                                                        \n",
       "1    0  1.500000e+01  1206.956850  4.630018e+01  2.500000e+00  180.800000   \n",
       "5    0  1.000847e+09   758.416323  3.492066e-07  1.112053e+08   27.750000   \n",
       "9    0 -5.940000e+02  1698.081759 -2.115488e+00 -8.485714e+01  121.166667   \n",
       "17   0 -5.500000e+02  1256.024894 -2.011137e+00 -1.375000e+02  106.333333   \n",
       "42   0  1.320000e+02   199.142754  9.446031e-01  3.300000e+01   32.000000   \n",
       "\n",
       "            deltay        vx        vy     v_tan       dtv     dtdtv  \n",
       "help                                                                  \n",
       "1    0  155.200000  2.245504  1.722023  3.519523  0.088964  0.002646  \n",
       "5    0   88.750000  0.538457  1.443522  1.568055  0.047360  0.002281  \n",
       "9    0  231.000000  1.212107  0.496773  1.404336  0.025917  0.000555  \n",
       "17   0  397.333333  0.525348  0.183775  1.338416  0.014800  0.000276  \n",
       "42   0   48.333333 -0.151908 -0.415829  0.482257 -0.004522  0.000043  "
      ]
     },
     "execution_count": 12,
     "metadata": {},
     "output_type": "execute_result"
    }
   ],
   "source": [
    "user_processed_moves = moves.groupby(['help']).apply(analyse_recods)\n",
    "user_processed_moves.head()"
   ]
  },
  {
   "cell_type": "markdown",
   "metadata": {
    "slideshow": {
     "slide_type": "slide"
    }
   },
   "source": [
    "# Problem\n",
    "* How to represent each user in dataset? \n",
    "* Are average features sufficient?"
   ]
  },
  {
   "cell_type": "markdown",
   "metadata": {
    "slideshow": {
     "slide_type": "slide"
    }
   },
   "source": [
    "# Histogram represantion\n",
    "* Represent each feature as a histogram of its values for user. [2, 3]\n",
    "* Store this histogram as a representation (model) of given user."
   ]
  },
  {
   "cell_type": "code",
   "execution_count": 41,
   "metadata": {
    "slideshow": {
     "slide_type": "subslide"
    }
   },
   "outputs": [
    {
     "data": {
      "text/plain": [
       "<matplotlib.axes._subplots.AxesSubplot at 0x11cdda2e8>"
      ]
     },
     "execution_count": 41,
     "metadata": {},
     "output_type": "execute_result"
    },
    {
     "data": {
      "image/png": "[encoded data removed]",
      "text/plain": [
       "<Figure size 864x576 with 1 Axes>"
      ]
     },
     "metadata": {
      "needs_background": "light"
     },
     "output_type": "display_data"
    }
   ],
   "source": [
    "user_processed_moves.dist.hist(bins=5)"
   ]
  },
  {
   "cell_type": "markdown",
   "metadata": {
    "slideshow": {
     "slide_type": "subslide"
    }
   },
   "source": [
    "# Problem \n",
    "* How many bins should we use? \n",
    "* How to get bin values?\n",
    "\n",
    "# Solution\n",
    "* Estimating number of bins can be part of feature selection process.\n",
    "* Estimate bin values acording to global data (data from all users) [2], estimating bin values acording to IQR of global data."
   ]
  },
  {
   "cell_type": "code",
   "execution_count": 23,
   "metadata": {
    "slideshow": {
     "slide_type": "subslide"
    }
   },
   "outputs": [],
   "source": [
    "def get_bin_edges_for_columns(all_moves, columns):\n",
    "    \"\"\"\n",
    "    Function extracts bin values for histograms from all given mouse moves.\n",
    "    \"\"\"\n",
    "    result = {} \n",
    "    for column in columns: \n",
    "        result[column] = stats.mstats.mquantiles(all_moves[column].dropna(), np.linspace(0, 1, 5))\n",
    "    return result\n",
    "\n",
    "def get_histograms(user_data, bin_edges, columns):\n",
    "    \"\"\"\n",
    "    Function generates histograms for given user data and bin values (bin edges).\n",
    "    \"\"\"\n",
    "    result_dict = {}\n",
    "    for feature in columns:\n",
    "        x = get_feature_histogram(user_data, feature, bin_edges[feature])\n",
    "        result_dict = {**result_dict, **x} # Syntactic sugar: concatenation of dictionairies\n",
    "    return pd.Series(result_dict).to_frame().T # Same hack as before transformation dict to df\n",
    "\n",
    "def get_feature_histogram(data, feature, bin_edges):\n",
    "    \"\"\"\n",
    "    Function returns histogram transformed into dictionary\n",
    "    \"\"\"\n",
    "    counts, _ = np.histogram(data[feature].dropna(), bins = bin_edges)\n",
    "    result = {}\n",
    "    for index, value in enumerate(counts):\n",
    "        result[feature + \"_bin_\" +str(index)] = value\n",
    "    return result"
   ]
  },
  {
   "cell_type": "markdown",
   "metadata": {
    "slideshow": {
     "slide_type": "slide"
    }
   },
   "source": [
    "# On whole dataset\n",
    "* Finally we run the whole analysis on the dataset."
   ]
  },
  {
   "cell_type": "code",
   "execution_count": 11,
   "metadata": {
    "slideshow": {
     "slide_type": "subslide"
    }
   },
   "outputs": [],
   "source": [
    "def preprocess_user_mousemoves(user_data):\n",
    "    \"\"\"\n",
    "    Function preprocess raw data. It computes time deltas and offsets in axis. It also filters out moves with few events.\n",
    "    \"\"\"\n",
    "    user_data = user_data[['xpos', 'ypos', 'timestamp', 'event']]\n",
    "    user_data = user_data[user_data.event.isin(['mousemove'])].sort_values(['timestamp']).copy()\n",
    "    user_data = user_data.drop_duplicates()\n",
    "\n",
    "    user_data['deltat'] = user_data.timestamp - user_data.timestamp.shift(1)\n",
    "    user_data.deltat = user_data.deltat / np.timedelta64(1, 'ms')\n",
    "\n",
    "    # Delete records with same timedelta\n",
    "    user_data = user_data[user_data.deltat != 0].copy()\n",
    "    \n",
    "    user_data['help'] = (user_data.deltat > 120).cumsum()\n",
    "    return user_data.groupby('help').filter(lambda x: x.shape[0] >= 4).groupby('help').apply(lambda x: analyse_recods(x)).reset_index(drop=True)"
   ]
  },
  {
   "cell_type": "code",
   "execution_count": 26,
   "metadata": {
    "slideshow": {
     "slide_type": "subslide"
    }
   },
   "outputs": [],
   "source": [
    "# Preprocess mouse data \n",
    "all_analysed_moves = df.groupby(['visitorId']).apply(lambda x: preprocess_user_mousemoves(x))\n",
    "\n",
    "# For target features generate histograms' bin values \n",
    "columns = ['vx', 'vy', 'v', 'v_tan', 'dtv', 'dtdtv', 'dist', 'time']\n",
    "bin_edges = get_bin_edges_for_columns(all_analysed_moves, columns)\n",
    "\n",
    "# Generate histograms for each user\n",
    "features = all_analysed_moves.reset_index().groupby(['visitorId']).apply(lambda x: get_histograms(x, bin_edges, columns))"
   ]
  },
  {
   "cell_type": "code",
   "execution_count": 28,
   "metadata": {
    "slideshow": {
     "slide_type": "subslide"
    }
   },
   "outputs": [
    {
     "data": {
      "text/html": [
       "<div>\n",
       "<style scoped>\n",
       "    .dataframe tbody tr th:only-of-type {\n",
       "        vertical-align: middle;\n",
       "    }\n",
       "\n",
       "    .dataframe tbody tr th {\n",
       "        vertical-align: top;\n",
       "    }\n",
       "\n",
       "    .dataframe thead th {\n",
       "        text-align: right;\n",
       "    }\n",
       "</style>\n",
       "<table border=\"1\" class=\"dataframe\">\n",
       "  <thead>\n",
       "    <tr style=\"text-align: right;\">\n",
       "      <th></th>\n",
       "      <th>vx_bin_0</th>\n",
       "      <th>vx_bin_1</th>\n",
       "      <th>vx_bin_2</th>\n",
       "      <th>vx_bin_3</th>\n",
       "      <th>vy_bin_0</th>\n",
       "      <th>vy_bin_1</th>\n",
       "      <th>vy_bin_2</th>\n",
       "      <th>vy_bin_3</th>\n",
       "      <th>v_bin_0</th>\n",
       "      <th>v_bin_1</th>\n",
       "      <th>...</th>\n",
       "      <th>dtdtv_bin_2</th>\n",
       "      <th>dtdtv_bin_3</th>\n",
       "      <th>dist_bin_0</th>\n",
       "      <th>dist_bin_1</th>\n",
       "      <th>dist_bin_2</th>\n",
       "      <th>dist_bin_3</th>\n",
       "      <th>time_bin_0</th>\n",
       "      <th>time_bin_1</th>\n",
       "      <th>time_bin_2</th>\n",
       "      <th>time_bin_3</th>\n",
       "    </tr>\n",
       "    <tr>\n",
       "      <th>visitorId</th>\n",
       "      <th></th>\n",
       "      <th></th>\n",
       "      <th></th>\n",
       "      <th></th>\n",
       "      <th></th>\n",
       "      <th></th>\n",
       "      <th></th>\n",
       "      <th></th>\n",
       "      <th></th>\n",
       "      <th></th>\n",
       "      <th></th>\n",
       "      <th></th>\n",
       "      <th></th>\n",
       "      <th></th>\n",
       "      <th></th>\n",
       "      <th></th>\n",
       "      <th></th>\n",
       "      <th></th>\n",
       "      <th></th>\n",
       "      <th></th>\n",
       "      <th></th>\n",
       "    </tr>\n",
       "  </thead>\n",
       "  <tbody>\n",
       "    <tr>\n",
       "      <th>0dc38007-ea14-4aaf-bd39-b3fb204f48c2</th>\n",
       "      <td>44</td>\n",
       "      <td>31</td>\n",
       "      <td>24</td>\n",
       "      <td>11</td>\n",
       "      <td>50</td>\n",
       "      <td>34</td>\n",
       "      <td>18</td>\n",
       "      <td>8</td>\n",
       "      <td>27</td>\n",
       "      <td>27</td>\n",
       "      <td>...</td>\n",
       "      <td>18</td>\n",
       "      <td>10</td>\n",
       "      <td>41</td>\n",
       "      <td>31</td>\n",
       "      <td>24</td>\n",
       "      <td>14</td>\n",
       "      <td>30</td>\n",
       "      <td>36</td>\n",
       "      <td>36</td>\n",
       "      <td>8</td>\n",
       "    </tr>\n",
       "    <tr>\n",
       "      <th>189249c9-d577-48da-a662-dff005e9bbe5</th>\n",
       "      <td>12</td>\n",
       "      <td>15</td>\n",
       "      <td>8</td>\n",
       "      <td>10</td>\n",
       "      <td>20</td>\n",
       "      <td>11</td>\n",
       "      <td>7</td>\n",
       "      <td>7</td>\n",
       "      <td>7</td>\n",
       "      <td>15</td>\n",
       "      <td>...</td>\n",
       "      <td>7</td>\n",
       "      <td>7</td>\n",
       "      <td>10</td>\n",
       "      <td>17</td>\n",
       "      <td>11</td>\n",
       "      <td>7</td>\n",
       "      <td>11</td>\n",
       "      <td>15</td>\n",
       "      <td>15</td>\n",
       "      <td>4</td>\n",
       "    </tr>\n",
       "    <tr>\n",
       "      <th>3c36dbbe-0e2e-4356-a618-8f5077f2b145</th>\n",
       "      <td>28</td>\n",
       "      <td>44</td>\n",
       "      <td>57</td>\n",
       "      <td>54</td>\n",
       "      <td>28</td>\n",
       "      <td>36</td>\n",
       "      <td>51</td>\n",
       "      <td>68</td>\n",
       "      <td>60</td>\n",
       "      <td>38</td>\n",
       "      <td>...</td>\n",
       "      <td>67</td>\n",
       "      <td>52</td>\n",
       "      <td>33</td>\n",
       "      <td>49</td>\n",
       "      <td>53</td>\n",
       "      <td>48</td>\n",
       "      <td>42</td>\n",
       "      <td>42</td>\n",
       "      <td>23</td>\n",
       "      <td>76</td>\n",
       "    </tr>\n",
       "    <tr>\n",
       "      <th>4c0a6ae9-04c6-4266-91e3-7883549f055c</th>\n",
       "      <td>18</td>\n",
       "      <td>11</td>\n",
       "      <td>10</td>\n",
       "      <td>32</td>\n",
       "      <td>9</td>\n",
       "      <td>21</td>\n",
       "      <td>16</td>\n",
       "      <td>25</td>\n",
       "      <td>18</td>\n",
       "      <td>17</td>\n",
       "      <td>...</td>\n",
       "      <td>13</td>\n",
       "      <td>35</td>\n",
       "      <td>19</td>\n",
       "      <td>11</td>\n",
       "      <td>10</td>\n",
       "      <td>31</td>\n",
       "      <td>18</td>\n",
       "      <td>9</td>\n",
       "      <td>21</td>\n",
       "      <td>23</td>\n",
       "    </tr>\n",
       "    <tr>\n",
       "      <th>7248fd19-ddb4-4db4-b044-67187797fffd</th>\n",
       "      <td>15</td>\n",
       "      <td>16</td>\n",
       "      <td>18</td>\n",
       "      <td>10</td>\n",
       "      <td>10</td>\n",
       "      <td>15</td>\n",
       "      <td>25</td>\n",
       "      <td>9</td>\n",
       "      <td>5</td>\n",
       "      <td>20</td>\n",
       "      <td>...</td>\n",
       "      <td>12</td>\n",
       "      <td>13</td>\n",
       "      <td>14</td>\n",
       "      <td>9</td>\n",
       "      <td>19</td>\n",
       "      <td>17</td>\n",
       "      <td>16</td>\n",
       "      <td>15</td>\n",
       "      <td>22</td>\n",
       "      <td>6</td>\n",
       "    </tr>\n",
       "  </tbody>\n",
       "</table>\n",
       "<p>5 rows × 32 columns</p>\n",
       "</div>"
      ],
      "text/plain": [
       "                                      vx_bin_0  vx_bin_1  vx_bin_2  vx_bin_3  \\\n",
       "visitorId                                                                      \n",
       "0dc38007-ea14-4aaf-bd39-b3fb204f48c2        44        31        24        11   \n",
       "189249c9-d577-48da-a662-dff005e9bbe5        12        15         8        10   \n",
       "3c36dbbe-0e2e-4356-a618-8f5077f2b145        28        44        57        54   \n",
       "4c0a6ae9-04c6-4266-91e3-7883549f055c        18        11        10        32   \n",
       "7248fd19-ddb4-4db4-b044-67187797fffd        15        16        18        10   \n",
       "\n",
       "                                      vy_bin_0  vy_bin_1  vy_bin_2  vy_bin_3  \\\n",
       "visitorId                                                                      \n",
       "0dc38007-ea14-4aaf-bd39-b3fb204f48c2        50        34        18         8   \n",
       "189249c9-d577-48da-a662-dff005e9bbe5        20        11         7         7   \n",
       "3c36dbbe-0e2e-4356-a618-8f5077f2b145        28        36        51        68   \n",
       "4c0a6ae9-04c6-4266-91e3-7883549f055c         9        21        16        25   \n",
       "7248fd19-ddb4-4db4-b044-67187797fffd        10        15        25         9   \n",
       "\n",
       "                                      v_bin_0  v_bin_1     ...      \\\n",
       "visitorId                                                  ...       \n",
       "0dc38007-ea14-4aaf-bd39-b3fb204f48c2       27       27     ...       \n",
       "189249c9-d577-48da-a662-dff005e9bbe5        7       15     ...       \n",
       "3c36dbbe-0e2e-4356-a618-8f5077f2b145       60       38     ...       \n",
       "4c0a6ae9-04c6-4266-91e3-7883549f055c       18       17     ...       \n",
       "7248fd19-ddb4-4db4-b044-67187797fffd        5       20     ...       \n",
       "\n",
       "                                      dtdtv_bin_2  dtdtv_bin_3  dist_bin_0  \\\n",
       "visitorId                                                                    \n",
       "0dc38007-ea14-4aaf-bd39-b3fb204f48c2           18           10          41   \n",
       "189249c9-d577-48da-a662-dff005e9bbe5            7            7          10   \n",
       "3c36dbbe-0e2e-4356-a618-8f5077f2b145           67           52          33   \n",
       "4c0a6ae9-04c6-4266-91e3-7883549f055c           13           35          19   \n",
       "7248fd19-ddb4-4db4-b044-67187797fffd           12           13          14   \n",
       "\n",
       "                                      dist_bin_1  dist_bin_2  dist_bin_3  \\\n",
       "visitorId                                                                  \n",
       "0dc38007-ea14-4aaf-bd39-b3fb204f48c2          31          24          14   \n",
       "189249c9-d577-48da-a662-dff005e9bbe5          17          11           7   \n",
       "3c36dbbe-0e2e-4356-a618-8f5077f2b145          49          53          48   \n",
       "4c0a6ae9-04c6-4266-91e3-7883549f055c          11          10          31   \n",
       "7248fd19-ddb4-4db4-b044-67187797fffd           9          19          17   \n",
       "\n",
       "                                      time_bin_0  time_bin_1  time_bin_2  \\\n",
       "visitorId                                                                  \n",
       "0dc38007-ea14-4aaf-bd39-b3fb204f48c2          30          36          36   \n",
       "189249c9-d577-48da-a662-dff005e9bbe5          11          15          15   \n",
       "3c36dbbe-0e2e-4356-a618-8f5077f2b145          42          42          23   \n",
       "4c0a6ae9-04c6-4266-91e3-7883549f055c          18           9          21   \n",
       "7248fd19-ddb4-4db4-b044-67187797fffd          16          15          22   \n",
       "\n",
       "                                      time_bin_3  \n",
       "visitorId                                         \n",
       "0dc38007-ea14-4aaf-bd39-b3fb204f48c2           8  \n",
       "189249c9-d577-48da-a662-dff005e9bbe5           4  \n",
       "3c36dbbe-0e2e-4356-a618-8f5077f2b145          76  \n",
       "4c0a6ae9-04c6-4266-91e3-7883549f055c          23  \n",
       "7248fd19-ddb4-4db4-b044-67187797fffd           6  \n",
       "\n",
       "[5 rows x 32 columns]"
      ]
     },
     "execution_count": 28,
     "metadata": {},
     "output_type": "execute_result"
    }
   ],
   "source": [
    "features.index = features.index.levels[0]\n",
    "features"
   ]
  },
  {
   "cell_type": "markdown",
   "metadata": {
    "slideshow": {
     "slide_type": "slide"
    }
   },
   "source": [
    "# Conclusion\n",
    "* We showed a method for user representation using histogram of features.\n",
    "* We mentioned some problems connected with this approach. \n",
    "* We showed implementation in Python."
   ]
  },
  {
   "cell_type": "markdown",
   "metadata": {
    "slideshow": {
     "slide_type": "slide"
    }
   },
   "source": [
    "# Python essentials\n",
    "* Map, reduce, filter: http://book.pythontips.com/en/latest/map_filter.html\n",
    "\n",
    "**Basic Data science**\n",
    "* Pandas: https://pandas.pydata.org/\n",
    "* Numpy: http://www.numpy.org/\n",
    "* Scipy: https://www.scipy.org/"
   ]
  },
  {
   "cell_type": "markdown",
   "metadata": {
    "slideshow": {
     "slide_type": "slide"
    }
   },
   "source": [
    "**Plotting and visualisation**\n",
    "* Matplotlib: https://matplotlib.org/\n",
    "* Seaborn: https://seaborn.pydata.org/\n",
    "\n",
    "**Jupyter**\n",
    "* jupyter notebook: http://jupyter.org/\n",
    "* jupyter lab: https://jupyterlab.readthedocs.io/en/stable/getting_started/installation.html\n",
    "* google collab: https://colab.research.google.com/"
   ]
  },
  {
   "cell_type": "markdown",
   "metadata": {
    "slideshow": {
     "slide_type": "slide"
    }
   },
   "source": [
    "# References\n",
    "[1] GAMBOA, Hugo; FRED, Ana. A behavioral biometric system based on human-computer interaction. In: Biometric Technology for Human Identification. International Society for Optics and Photonics, 2004. p. 381-393.\n",
    "\n",
    "[2] KRÁTKY, Peter; CHUDÁ, Daniela. Recognition of web users with the aid of biometric user model. Journal of Intelligent Information Systems, 2018, 1-26.\n",
    "\n",
    "[3] AHMED, Ahmed Awad E.; TRAORE, Issa. A new biometric technology based on mouse dynamics. IEEE Transactions on dependable and secure computing, 2007, 4.3: 165-179.\n"
   ]
  }
 ],
 "metadata": {
  "celltoolbar": "Slideshow",
  "kernelspec": {
   "display_name": "Python 3",
   "language": "python",
   "name": "python3"
  },
  "language_info": {
   "codemirror_mode": {
    "name": "ipython",
    "version": 3
   },
   "file_extension": ".py",
   "mimetype": "text/x-python",
   "name": "python",
   "nbconvert_exporter": "python",
   "pygments_lexer": "ipython3",
   "version": "3.7.0"
  }
 },
 "nbformat": 4,
 "nbformat_minor": 2
}
